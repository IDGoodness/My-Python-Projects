{
 "cells": [
  {
   "cell_type": "code",
   "execution_count": 1,
   "id": "7d7511b5",
   "metadata": {},
   "outputs": [],
   "source": [
    "# print(\"\"\"\n",
    "\n",
    "# Welcome; Rock, Paper or Scissors?\n",
    "\n",
    "# \"\"\")\n",
    "\n",
    "# reply = input(\":\")\n",
    "\n",
    "# def play_game():\n",
    "#     print(\"\"\"\n",
    "    \n",
    "#     You chose Rock?\n",
    "#     Really!!\n",
    "    \n",
    "#     \"\"\")\n",
    "    \n",
    "    \n",
    "    \n",
    "    \n",
    "\n",
    "\n",
    "# if reply.upper() == \"ROCK\":\n",
    "#     play_game()\n",
    "    \n",
    "# elif reply.upper() == \"PAPER\":\n",
    "#     play_game2()\n",
    "    \n",
    "# elif reply.upper() == \"SCISSORS\":\n",
    "#     play_game3()"
   ]
  },
  {
   "cell_type": "code",
   "execution_count": null,
   "id": "6b96cacd",
   "metadata": {},
   "outputs": [],
   "source": []
  }
 ],
 "metadata": {
  "kernelspec": {
   "display_name": "Python 3 (ipykernel)",
   "language": "python",
   "name": "python3"
  },
  "language_info": {
   "codemirror_mode": {
    "name": "ipython",
    "version": 3
   },
   "file_extension": ".py",
   "mimetype": "text/x-python",
   "name": "python",
   "nbconvert_exporter": "python",
   "pygments_lexer": "ipython3",
   "version": "3.9.12"
  }
 },
 "nbformat": 4,
 "nbformat_minor": 5
}
