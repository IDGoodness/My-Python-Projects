{
 "cells": [
  {
   "cell_type": "code",
   "execution_count": 2,
   "id": "90146aaf",
   "metadata": {},
   "outputs": [
    {
     "name": "stdout",
     "output_type": "stream",
     "text": [
      "<_io.TextIOWrapper name='demofile.txt' mode='r' encoding='cp1252'>\n",
      "--------- same as below -----\n"
     ]
    }
   ],
   "source": [
    "# open() is the key function\n",
    "# takes 2 parameters filename and mode\n",
    "# 4 different modes for opening a file\n",
    "# \"r\" -- Read\n",
    "# \"a\" -- Append\n",
    "# \"w\" -- Write\n",
    "# \"x\" -- Create \n",
    "# \"t\" -- text mode\n",
    "# \"b\" -- binary mode\n",
    "\n",
    "f = open(\"demofile.txt\")\n",
    "\n",
    "print(\"--------- same as below -----\")\n",
    "\n",
    "f = open(\"demofile.txt\", \"rt\")"
   ]
  },
  {
   "cell_type": "code",
   "execution_count": 3,
   "id": "6e88e8dc",
   "metadata": {},
   "outputs": [
    {
     "name": "stdout",
     "output_type": "stream",
     "text": [
      "bcdwyferivuwerfbyrfbuwerj\n",
      "lorem sjhvberhvbrhfvweiwqe\n",
      "ebfweru, mjvbweycb gevf ye ey yv etf qweufbvqwe tfd qwkvdqhw dv2t\n",
      "djvfweg bu i bgweyfgeybee  gu yevfwehvftwe \n",
      "yvusdvewr bwyfbewh fvwewjfbwe iyfa kgfv ef\n",
      "efewvyfge fwegy gydgeifugweu e igy guegdfg dqweudfuyf2f\n",
      "vyfdw avyervforevuwi fgfoge ygfoefyugog8  fyegfy g fygewqg \n",
      "\n",
      " kwefyuevfyef [ywfeyewfweuoq qqkf yqvve ywueguqyeyueri ]\n",
      " '' g fg 7qigfr3g87q34g7 gy7 7 4gfieqgi fgevbd cf qibl qlv\n"
     ]
    }
   ],
   "source": [
    "f = open(\"demofile.txt\", \"r\")\n",
    "print(f.read())"
   ]
  },
  {
   "cell_type": "code",
   "execution_count": 5,
   "id": "60d91aec",
   "metadata": {},
   "outputs": [
    {
     "name": "stdout",
     "output_type": "stream",
     "text": [
      "bcdwyferivuwerfbyrfbuwerj\n",
      "lorem sj\n"
     ]
    }
   ],
   "source": [
    "f = open(\"demofile.txt\", \"r\")\n",
    "print(f.read(34))"
   ]
  },
  {
   "cell_type": "code",
   "execution_count": 8,
   "id": "5e2e137b",
   "metadata": {},
   "outputs": [
    {
     "name": "stdout",
     "output_type": "stream",
     "text": [
      "bcdwyferivuwerfbyrfbuwerj\n",
      "\n",
      "lorem sjhvberhvbrhfvweiwqe\n",
      "\n"
     ]
    }
   ],
   "source": [
    "f = open(\"demofile.txt\", \"r\")\n",
    "print(f.readline())\n",
    "print(f.readline())"
   ]
  },
  {
   "cell_type": "code",
   "execution_count": 9,
   "id": "94677914",
   "metadata": {},
   "outputs": [
    {
     "name": "stdout",
     "output_type": "stream",
     "text": [
      "bcdwyferivuwerfbyrfbuwerj\n",
      "\n",
      "lorem sjhvberhvbrhfvweiwqe\n",
      "\n",
      "ebfweru, mjvbweycb gevf ye ey yv etf qweufbvqwe tfd qwkvdqhw dv2t\n",
      "\n",
      "djvfweg bu i bgweyfgeybee  gu yevfwehvftwe \n",
      "\n",
      "yvusdvewr bwyfbewh fvwewjfbwe iyfa kgfv ef\n",
      "\n",
      "efewvyfge fwegy gydgeifugweu e igy guegdfg dqweudfuyf2f\n",
      "\n",
      "vyfdw avyervforevuwi fgfoge ygfoefyugog8  fyegfy g fygewqg \n",
      "\n",
      "\n",
      "\n",
      " kwefyuevfyef [ywfeyewfweuoq qqkf yqvve ywueguqyeyueri ]\n",
      "\n",
      " '' g fg 7qigfr3g87q34g7 gy7 7 4gfieqgi fgevbd cf qibl qlv\n"
     ]
    }
   ],
   "source": [
    "f= open(\"demofile.txt\", \"r\")\n",
    "for x in f:\n",
    "    print(x)"
   ]
  },
  {
   "cell_type": "code",
   "execution_count": 11,
   "id": "efd21965",
   "metadata": {},
   "outputs": [
    {
     "name": "stdout",
     "output_type": "stream",
     "text": [
      "bcdwyferivuwerfbyrfbuwerj\n",
      "\n"
     ]
    }
   ],
   "source": [
    "# Close files\n",
    "\n",
    "f = open(\"demofile.txt\", \"r\")\n",
    "print(f.readline())\n",
    "f.close()\n",
    "\n",
    "# Remember to always close files; for buffering"
   ]
  },
  {
   "cell_type": "code",
   "execution_count": 16,
   "id": "fb3da413",
   "metadata": {},
   "outputs": [
    {
     "name": "stdout",
     "output_type": "stream",
     "text": [
      "Let's put content in you1....Let's put content in you1....Let's put content in you1....Let's put content in you1....\n"
     ]
    }
   ],
   "source": [
    "# File Write\n",
    "# Parameters \"a\" and \"w\";\n",
    "\n",
    "f = open(\"demofile2.txt\", \"a\")\n",
    "f.write(\"Let's put content in you1....\")\n",
    "f.close()\n",
    "\n",
    "# open and read file after appending\n",
    "f = open(\"demofile2.txt\", \"r\")\n",
    "print(f.read())\n"
   ]
  },
  {
   "cell_type": "code",
   "execution_count": 19,
   "id": "54c7c49e",
   "metadata": {},
   "outputs": [
    {
     "name": "stdout",
     "output_type": "stream",
     "text": [
      "I deleted the content!\n"
     ]
    }
   ],
   "source": [
    "f = open(\"demofile3.txt\", \"w\")\n",
    "f.write(\"I deleted the content!\")\n",
    "f.close()\n",
    "\n",
    "# open and read file after appending\n",
    "f = open(\"demofile3.txt\", \"r\")\n",
    "print(f.read())"
   ]
  },
  {
   "cell_type": "code",
   "execution_count": 21,
   "id": "305af59d",
   "metadata": {},
   "outputs": [],
   "source": [
    "# Jesus rescued you and you're raisnig a chant?\n",
    "\n",
    "# f = open(\"myfile.txt\", \"w\")\n"
   ]
  },
  {
   "cell_type": "code",
   "execution_count": 28,
   "id": "005626bd",
   "metadata": {},
   "outputs": [],
   "source": [
    "# Delete a File os.remove()\n",
    "# Delete folder -- os.rmdir()\n",
    "\n",
    "import os\n",
    "if os.path.exists(\"demofile2.txt\"):\n",
    "    os.remove(\"demofile2.txt\")\n",
    "else:\n",
    "    print(\"This file does not exist!\")"
   ]
  },
  {
   "cell_type": "code",
   "execution_count": null,
   "id": "ea2edc77",
   "metadata": {},
   "outputs": [],
   "source": []
  }
 ],
 "metadata": {
  "kernelspec": {
   "display_name": "Python 3 (ipykernel)",
   "language": "python",
   "name": "python3"
  },
  "language_info": {
   "codemirror_mode": {
    "name": "ipython",
    "version": 3
   },
   "file_extension": ".py",
   "mimetype": "text/x-python",
   "name": "python",
   "nbconvert_exporter": "python",
   "pygments_lexer": "ipython3",
   "version": "3.9.12"
  }
 },
 "nbformat": 4,
 "nbformat_minor": 5
}
